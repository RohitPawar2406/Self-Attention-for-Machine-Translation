{
 "cells": [
  {
   "cell_type": "markdown",
   "id": "8bfe9329",
   "metadata": {},
   "source": [
    "# Importing Library"
   ]
  },
  {
   "cell_type": "code",
   "execution_count": 1,
   "id": "c3b4b5aa",
   "metadata": {},
   "outputs": [],
   "source": [
    "import torch\n",
    "from torch import nn\n",
    "import torchtext\n",
    "from torchtext.legacy.datasets import Multi30k\n",
    "from torchtext.legacy.data import Field,BucketIterator\n",
    "\n",
    "import spacy\n",
    "import random\n",
    "import re \n",
    "import time\n",
    "import math"
   ]
  },
  {
   "cell_type": "code",
   "execution_count": 2,
   "id": "18d02394",
   "metadata": {},
   "outputs": [
    {
     "data": {
      "text/plain": [
       "('1.10.0', '0.11.0')"
      ]
     },
     "execution_count": 2,
     "metadata": {},
     "output_type": "execute_result"
    }
   ],
   "source": [
    "torch.__version__, torchtext.__version__"
   ]
  },
  {
   "cell_type": "markdown",
   "id": "8b8ddfab",
   "metadata": {},
   "source": [
    "## Spacy Model"
   ]
  },
  {
   "cell_type": "markdown",
   "id": "ccf18456",
   "metadata": {},
   "source": [
    "Spacy is an open-source software python library used in advanced natural language processing and machine learning. It will be used to build information extraction, natural language understanding systems, and to pre-process text for deep learning.\n",
    "\n",
    "Word tokens are the basic units of text involved in any NLPlabeling task. The first step, when processing text, is to split it into tokens."
   ]
  },
  {
   "cell_type": "code",
   "execution_count": 3,
   "id": "1657d52f",
   "metadata": {},
   "outputs": [],
   "source": [
    "#!python -m spacy download en_core_web_sm\n",
    "#!python -m spacy download de_core_news_sm"
   ]
  },
  {
   "cell_type": "code",
   "execution_count": 4,
   "id": "37d005b5",
   "metadata": {},
   "outputs": [],
   "source": [
    "spacy_english = spacy.load(\"en_core_web_sm\")\n",
    "spacy_german = spacy.load(\"de_core_news_sm\")"
   ]
  },
  {
   "cell_type": "code",
   "execution_count": 5,
   "id": "d93e34cf",
   "metadata": {},
   "outputs": [],
   "source": [
    "def tokenise_of_german(text):\n",
    "    return [tokenise_str.text for tokenise_str in spacy_german.tokenizer(text)]"
   ]
  },
  {
   "cell_type": "code",
   "execution_count": 6,
   "id": "173cb92a",
   "metadata": {},
   "outputs": [],
   "source": [
    "def tokenise_of_english(text):\n",
    "    return [tokenise_str.text for tokenise_str in spacy_english.tokenizer(text)]"
   ]
  },
  {
   "cell_type": "markdown",
   "id": "d71d3c05",
   "metadata": {},
   "source": [
    "# torch.leagacy.data.Fields"
   ]
  },
  {
   "cell_type": "code",
   "execution_count": 7,
   "id": "865485af",
   "metadata": {},
   "outputs": [],
   "source": [
    "SRC = Field(sequential=True,\n",
    "           init_token='<sos>',\n",
    "           eos_token='<eos>',\n",
    "            lower=True,\n",
    "            tokenize=tokenise_of_german\n",
    "           )"
   ]
  },
  {
   "cell_type": "code",
   "execution_count": 8,
   "id": "369e582c",
   "metadata": {},
   "outputs": [],
   "source": [
    "TRG = Field(sequential=True,\n",
    "           init_token='<sos>',\n",
    "           eos_token='<eos>',\n",
    "           lower=True,\n",
    "           tokenize=tokenise_of_english)"
   ]
  },
  {
   "cell_type": "markdown",
   "id": "b700bb37",
   "metadata": {},
   "source": [
    "# Importing Multi30k Datasets"
   ]
  },
  {
   "cell_type": "code",
   "execution_count": 9,
   "id": "deed3409",
   "metadata": {},
   "outputs": [],
   "source": [
    "train_data, valid_data, test_data = Multi30k.splits(exts=('.de','.en'), fields=(SRC,TRG))"
   ]
  },
  {
   "cell_type": "markdown",
   "id": "c7899bb3",
   "metadata": {},
   "source": [
    "All Source sentences with there targets.\n",
    "This is raw data just taken out of Multi30k and we pass to spacy for tokenisation process and below is what happens to data."
   ]
  },
  {
   "cell_type": "code",
   "execution_count": 10,
   "id": "3c684d9f",
   "metadata": {},
   "outputs": [
    {
     "name": "stdout",
     "output_type": "stream",
     "text": [
      "Index:  0\n",
      "German Source Sentence:  ['zwei', 'junge', 'weiße', 'männer', 'sind', 'im', 'freien', 'in', 'der', 'nähe', 'vieler', 'büsche', '.']\n",
      "English Source Sentence:  ['two', 'young', ',', 'white', 'males', 'are', 'outside', 'near', 'many', 'bushes', '.']\n",
      "====================================================================\n",
      "Index:  1\n",
      "German Source Sentence:  ['mehrere', 'männer', 'mit', 'schutzhelmen', 'bedienen', 'ein', 'antriebsradsystem', '.']\n",
      "English Source Sentence:  ['several', 'men', 'in', 'hard', 'hats', 'are', 'operating', 'a', 'giant', 'pulley', 'system', '.']\n",
      "====================================================================\n",
      "Index:  2\n",
      "German Source Sentence:  ['ein', 'kleines', 'mädchen', 'klettert', 'in', 'ein', 'spielhaus', 'aus', 'holz', '.']\n",
      "English Source Sentence:  ['a', 'little', 'girl', 'climbing', 'into', 'a', 'wooden', 'playhouse', '.']\n",
      "====================================================================\n",
      "Index:  3\n",
      "German Source Sentence:  ['ein', 'mann', 'in', 'einem', 'blauen', 'hemd', 'steht', 'auf', 'einer', 'leiter', 'und', 'putzt', 'ein', 'fenster', '.']\n",
      "English Source Sentence:  ['a', 'man', 'in', 'a', 'blue', 'shirt', 'is', 'standing', 'on', 'a', 'ladder', 'cleaning', 'a', 'window', '.']\n",
      "====================================================================\n",
      "Index:  4\n",
      "German Source Sentence:  ['zwei', 'männer', 'stehen', 'am', 'herd', 'und', 'bereiten', 'essen', 'zu', '.']\n",
      "English Source Sentence:  ['two', 'men', 'are', 'at', 'the', 'stove', 'preparing', 'food', '.']\n"
     ]
    }
   ],
   "source": [
    "for index in range(len(train_data)):\n",
    "    print(\"Index: \",index)\n",
    "    print(\"German Source Sentence: \",train_data[index].src)\n",
    "    print(\"English Source Sentence: \",train_data[index].trg)\n",
    "    if index==4:\n",
    "        break\n",
    "    print(\"====================================================================\")"
   ]
  },
  {
   "cell_type": "code",
   "execution_count": 11,
   "id": "f0edcbc6",
   "metadata": {},
   "outputs": [
    {
     "name": "stdout",
     "output_type": "stream",
     "text": [
      "Number of training examples: 29000\n",
      "Number of validation examples: 1014\n",
      "Number of testing examples: 1000\n"
     ]
    }
   ],
   "source": [
    "# Priting number of data in training,valid and testing loader.\n",
    "print(f\"Number of training examples: {len(train_data)}\")\n",
    "print(f\"Number of validation examples: {len(valid_data)}\")\n",
    "print(f\"Number of testing examples: {len(test_data)}\")"
   ]
  },
  {
   "cell_type": "markdown",
   "id": "debc0a9a",
   "metadata": {},
   "source": [
    "## Buidling up Vocabulary "
   ]
  },
  {
   "cell_type": "markdown",
   "id": "1382d29c",
   "metadata": {},
   "source": [
    "Next, we'll build the vocabulary for the source and target languages. The vocabulary is used to associate each unique token with an index (an integer). The vocabularies of the source and target languages are distinct.\n",
    "\n",
    "Using the min_freq argument, we only allow tokens that appear at least 2 times to appear in our vocabulary. Tokens that appear only once are converted into an <unk> (unknown) token.\n",
    "\n",
    "It is important to note that our vocabulary should only be built from the training set and not the validation/test set. This prevents \"information leakage\" into our model, giving us artifically inflated validation/test scores."
   ]
  },
  {
   "cell_type": "markdown",
   "id": "c386fb74",
   "metadata": {},
   "source": [
    "Paramters for build_vocab() ============>\n",
    "\n",
    "Parameters:\t\n",
    "counter – collections.Counter object holding the frequencies of each value found in the data.<br>\n",
    "max_size – The maximum size of the vocabulary, or None for no maximum. Default: None.<br>\n",
    "min_freq – The minimum frequency needed to include a token in the vocabulary. Values less than 1 will be set to 1. Default: 1.<br>\n",
    "specials – The list of special tokens (e.g., padding or eos) that will be prepended to the vocabulary in addition to an <unk> token. Default: [‘<pad>’]<br>\n",
    "vectors – One of either the available pretrained vectors or custom pretrained vectors (see Vocab.load_vectors); or a list of aforementioned vectors<br>\n",
    "unk_init (callback) – by default, initialize out-of-vocabulary word vectors to zero vectors; can be any function that takes in a Tensor and returns a Tensor of the same size. Default: torch.Tensor.zero_<br>\n",
    "vectors_cache – directory for cached vectors. Default: ‘.vector_cache’<br>\n",
    "specials_first – Whether to add special tokens into the vocabulary at first. If it is False, they are added into the vocabulary at last. Default: True.<br>"
   ]
  },
  {
   "cell_type": "code",
   "execution_count": 12,
   "id": "a9400f61",
   "metadata": {},
   "outputs": [],
   "source": [
    "SRC.build_vocab(train_data,min_freq=2)\n",
    "TRG.build_vocab(train_data, min_freq=2)"
   ]
  },
  {
   "cell_type": "markdown",
   "id": "2456548e",
   "metadata": {},
   "source": [
    "Below I Have converted into dictionary form. Open and see the dictionary and see data stored into there respective keys of dictionary."
   ]
  },
  {
   "cell_type": "code",
   "execution_count": 13,
   "id": "1a0b62f0",
   "metadata": {},
   "outputs": [
    {
     "data": {
      "text/plain": [
       "dict_keys(['freqs', 'itos', 'unk_index', 'stoi', 'vectors'])"
      ]
     },
     "execution_count": 13,
     "metadata": {},
     "output_type": "execute_result"
    }
   ],
   "source": [
    "dict_of_vocab_TRG = vars(TRG.vocab)\n",
    "dict_of_vocab_TRG.keys()"
   ]
  },
  {
   "cell_type": "code",
   "execution_count": 14,
   "id": "edf9c6fb",
   "metadata": {},
   "outputs": [
    {
     "data": {
      "text/plain": [
       "dict_keys(['freqs', 'itos', 'unk_index', 'stoi', 'vectors'])"
      ]
     },
     "execution_count": 14,
     "metadata": {},
     "output_type": "execute_result"
    }
   ],
   "source": [
    "dict_of_vocab_SRC = vars(SRC.vocab)\n",
    "dict_of_vocab_SRC.keys()"
   ]
  },
  {
   "cell_type": "markdown",
   "id": "8d76b9dd",
   "metadata": {},
   "source": [
    "## Bucket Iterator \n",
    "This Iterrator used for batching purpose and it Defines an iterator that batches examples of similar lengths together.\n",
    "Minimizes amount of padding needed while producing freshly shuffled batches for each new epoch. See pool for the bucketing procedure used."
   ]
  },
  {
   "cell_type": "markdown",
   "id": "8e6e90a2",
   "metadata": {},
   "source": [
    "Parameters :\t\n",
    "dataset – The Dataset object to load Examples from.<br>\n",
    "batch_size – Batch size.<br>\n",
    "batch_size_fn – Function of three arguments (new example to add, current count of examples in the batch, and current effective batch size) that returns the new effective batch size resulting from adding that example to a batch. This is useful for dynamic batching, where this function would add to the current effective batch size the number of tokens in the new example.<br>\n",
    "sort_key – A key to use for sorting examples in order to batch together examples with similar lengths and minimize padding. The sort_key provided to the Iterator constructor overrides the sort_key attribute of the Dataset, or defers to it if None.<br>\n",
    "train – Whether the iterator represents a train set.<br>\n",
    "repeat – Whether to repeat the iterator for multiple epochs. Default: False.<br>\n",
    "shuffle – Whether to shuffle examples between epochs.<br>\n",
    "sort – Whether to sort examples according to self.sort_key. Note that shuffle and sort default to train and (not train).<br>\n",
    "sort_within_batch – Whether to sort (in descending order according to self.sort_key) within each batch. If None, defaults to self.sort. If self.sort is True and this is False, the batch is left in the original (ascending) sorted order.<br>\n",
    "device (str or torch.device) – A string or instance of torch.device specifying which device the Variables are going to be created on. If left as default, the tensors will be created on cpu. Default: None.<br>"
   ]
  },
  {
   "cell_type": "code",
   "execution_count": 15,
   "id": "bb1b9177",
   "metadata": {},
   "outputs": [],
   "source": [
    "device = \"cuda\" if torch.cuda.is_available() else \"cpu\"\n",
    "\n",
    "BATCH_SIZE = 4\n",
    "\n",
    "train_iterator, valid_iterator, test_iterator = BucketIterator.splits(\n",
    "    (train_data,valid_data,test_data),\n",
    "    batch_sizes=(BATCH_SIZE,BATCH_SIZE,BATCH_SIZE),\n",
    "    device=device,\n",
    "    shuffle=True,\n",
    "    sort_within_batch=True,\n",
    "    sort_key=lambda x: len(x.src)\n",
    ")"
   ]
  },
  {
   "cell_type": "code",
   "execution_count": 16,
   "id": "55658bc7",
   "metadata": {},
   "outputs": [
    {
     "name": "stdout",
     "output_type": "stream",
     "text": [
      "0\n",
      "{'src': ['ein', 'mann', 'in', 'einem', 'schwarzen', 'anzug', 'überquert', 'eine', 'stark', 'befahrene', 'straße', '.'], 'trg': ['white', 'man', 'in', 'a', 'black', 'suit', 'is', 'crossing', 'a', 'busy', 'street', '.']}\n",
      "=============================================================================\n",
      "1\n",
      "{'src': ['zwei', 'personen', 'gehen', 'mit', 'einem', 'hund', 'und', 'mit', 'schirmen', 'zu', 'fuß', '.'], 'trg': ['two', 'people', 'walking', 'with', 'a', 'dog', 'and', 'using', 'umbrellas', '.']}\n",
      "=============================================================================\n",
      "2\n",
      "{'src': ['eine', 'frau', 'bügelt', 'in', 'einem', 'schlafzimmer', 'mit', 'parkettboden', '.'], 'trg': ['a', 'woman', 'irons', 'clothing', 'in', 'a', 'bedroom', 'with', 'hardwood', 'floors', '.']}\n",
      "=============================================================================\n",
      "3\n",
      "{'src': ['ein', 'junge', 'mit', 'einem', 't-shirt', 'und', 'jeans', 'geht', 'auf', 'einer', 'wiese', '.'], 'trg': ['a', 'young', 'boy', 'wearing', 'a', 't', '-', 'shirt', 'and', 'jeans', 'is', 'walking', 'in', 'a', 'grassy', 'field', '.']}\n",
      "=============================================================================\n",
      "4\n",
      "{'src': ['ein', 'krankenwagen', 'fährt', 'an', 'einem', 'mann', 'und', 'mädchen', 'vorbei', ',', 'der', 'mann', 'trägt', 'ein', 'bandana', '.'], 'trg': ['an', 'ambulance', 'is', 'passing', 'a', 'man', 'wearing', 'a', 'bandanna', 'and', 'girl', '.']}\n"
     ]
    }
   ],
   "source": [
    "for index, data in enumerate(train_iterator.data()):\n",
    "    print(index)\n",
    "    print(vars(data))\n",
    "    if index==4:\n",
    "        break;\n",
    "    print(\"=============================================================================\")"
   ]
  },
  {
   "cell_type": "markdown",
   "id": "ee8552ff",
   "metadata": {},
   "source": [
    "# Building Sequence to Sequence Model"
   ]
  },
  {
   "cell_type": "markdown",
   "id": "020a152c",
   "metadata": {},
   "source": [
    "## Encoder Class"
   ]
  },
  {
   "cell_type": "markdown",
   "id": "7fe8cb75",
   "metadata": {},
   "source": [
    "First, the encoder, a 2 layer LSTM. The paper we are implementing uses a 4-layer LSTM, but in the interest of training time we cut this down to 2-layers. The concept of multi-layer RNNs is easy to expand from 2 to 4 layers. \n",
    "\n",
    "For a multi-layer RNN, the input sentence, $X$, after being embedded goes into the first (bottom) layer of the RNN and hidden states, $H=\\{h_1, h_2, ..., h_T\\}$, output by this layer are used as inputs to the RNN in the layer above. Thus, representing each layer with a superscript, the hidden states in the first layer are given by:\n",
    "\n",
    "$$h_t^1 = \\text{EncoderRNN}^1(e(x_t), h_{t-1}^1)$$\n",
    "\n",
    "The hidden states in the second layer are given by:\n",
    "\n",
    "$$h_t^2 = \\text{EncoderRNN}^2(h_t^1, h_{t-1}^2)$$\n",
    "\n",
    "Using a multi-layer RNN also means we'll also need an initial hidden state as input per layer, $h_0^l$, and we will also output a context vector per layer, $z^l$.\n",
    "\n",
    "Without going into too much detail about LSTMs (see [this](https://colah.github.io/posts/2015-08-Understanding-LSTMs/) blog post to learn more about them), all we need to know is that they're a type of RNN which instead of just taking in a hidden state and returning a new hidden state per time-step, also take in and return a *cell state*, $c_t$, per time-step.\n",
    "\n",
    "$$\\begin{align*}\n",
    "h_t &= \\text{RNN}(e(x_t), h_{t-1})\\\\\n",
    "(h_t, c_t) &= \\text{LSTM}(e(x_t), h_{t-1}, c_{t-1})\n",
    "\\end{align*}$$\n",
    "\n",
    "We can just think of $c_t$ as another type of hidden state. Similar to $h_0^l$, $c_0^l$ will be initialized to a tensor of all zeros. Also, our context vector will now be both the final hidden state and the final cell state, i.e. $z^l = (h_T^l, c_T^l)$.\n",
    "\n",
    "Extending our multi-layer equations to LSTMs, we get:\n",
    "\n",
    "$$\\begin{align*}\n",
    "(h_t^1, c_t^1) &= \\text{EncoderLSTM}^1(e(x_t), (h_{t-1}^1, c_{t-1}^1))\\\\\n",
    "(h_t^2, c_t^2) &= \\text{EncoderLSTM}^2(h_t^1, (h_{t-1}^2, c_{t-1}^2))\n",
    "\\end{align*}$$\n",
    "\n",
    "Note how only our hidden state from the first layer is passed as input to the second layer, and not the cell state.\n",
    "\n",
    "So our encoder looks something like this: \n",
    "![](images/encoder.png)\n",
    "\n",
    "In the `forward` method, we pass in the source sentence, $X$, which is converted into dense vectors using the `embedding` layer, and then dropout is applied. These embeddings are then passed into the RNN. As we pass a whole sequence to the RNN, it will automatically do the recurrent calculation of the hidden states over the whole sequence for us! Notice that we do not pass an initial hidden or cell state to the RNN. This is because, as noted in the [documentation](https://pytorch.org/docs/stable/nn.html#torch.nn.LSTM), that if no hidden/cell state is passed to the RNN, it will automatically create an initial hidden/cell state as a tensor of all zeros. \n",
    "\n",
    "The RNN returns: `outputs` (the top-layer hidden state for each time-step), `hidden` (the final hidden state for each layer, $h_T$, stacked on top of each other) and `cell` (the final cell state for each layer, $c_T$, stacked on top of each other).\n",
    "\n",
    "As we only need the final hidden and cell states (to make our context vector), `forward` only returns `hidden` and `cell`. \n",
    "\n",
    "The sizes of each of the tensors is left as comments in the code. In this implementation `n_directions` will always be 1, however note that bidirectional RNNs (covered in tutorial 3) will have `n_directions` as 2."
   ]
  },
  {
   "cell_type": "code",
   "execution_count": 17,
   "id": "dc46227a",
   "metadata": {},
   "outputs": [],
   "source": [
    "from torch.nn import Embedding,LSTM,Linear"
   ]
  },
  {
   "cell_type": "code",
   "execution_count": 18,
   "id": "0ec2dd81",
   "metadata": {},
   "outputs": [],
   "source": [
    "class Encoder(torch.nn.Module):\n",
    "    def __init__(self,input_dim, embeddind_dim, hidden_dim, num_layers, droput_value):\n",
    "        super(Encoder,self).__init__();\n",
    "        \n",
    "        # Attributes\n",
    "        self.input_dim = input_dim;\n",
    "        self.embeddind_dim = embeddind_dim;\n",
    "        self.hidden_dim = hidden_dim;\n",
    "        self.num_layers = num_layers;\n",
    "        self.droput_value = droput_value;\n",
    "        \n",
    "        # Layers Object\n",
    "        self.embedded = Embedding(input_dim,embeddind_dim);\n",
    "        self.lstm = LSTM(embeddind_dim,hidden_dim,num_layers,dropout=droput_value)\n",
    "        \n",
    "    def forward(self,source):\n",
    "        # source.shape => [seq_len, batch_size]  \n",
    "        # source is 2d array where column wise sentences are present and batch_size is number of sentences in a set.\n",
    "        \n",
    "        output, (hidden,cell) = self.lstm(self.embedded(source)) #self.embedded.shape=>[seq_len, batch_size,embedding_size]\n",
    "        return hidden, cell"
   ]
  },
  {
   "cell_type": "markdown",
   "id": "cae058e0",
   "metadata": {},
   "source": [
    "## Decoder Class"
   ]
  },
  {
   "cell_type": "markdown",
   "id": "62c727c5",
   "metadata": {},
   "source": [
    "Next, we'll build our decoder, which will also be a 2-layer (4 in the paper) LSTM.\n",
    "\n",
    "![](images/decoder.png)\n",
    "\n",
    "The `Decoder` class does a single step of decoding, i.e. it ouputs single token per time-step. The first layer will receive a hidden and cell state from the previous time-step, $(s_{t-1}^1, c_{t-1}^1)$, and feeds it through the LSTM with the current embedded token, $y_t$, to produce a new hidden and cell state, $(s_t^1, c_t^1)$. The subsequent layers will use the hidden state from the layer below, $s_t^{l-1}$, and the previous hidden and cell states from their layer, $(s_{t-1}^l, c_{t-1}^l)$. This provides equations very similar to those in the encoder.\n",
    "\n",
    "$$\\begin{align*}\n",
    "(s_t^1, c_t^1) = \\text{DecoderLSTM}^1(d(y_t), (s_{t-1}^1, c_{t-1}^1))\\\\\n",
    "(s_t^2, c_t^2) = \\text{DecoderLSTM}^2(s_t^1, (s_{t-1}^2, c_{t-1}^2))\n",
    "\\end{align*}$$\n",
    "\n",
    "Remember that the initial hidden and cell states to our decoder are our context vectors, which are the final hidden and cell states of our encoder from the same layer, i.e. $(s_0^l,c_0^l)=z^l=(h_T^l,c_T^l)$.\n",
    "\n",
    "We then pass the hidden state from the top layer of the RNN, $s_t^L$, through a linear layer, $f$, to make a prediction of what the next token in the target (output) sequence should be, $\\hat{y}_{t+1}$. \n",
    "\n",
    "$$\\hat{y}_{t+1} = f(s_t^L)$$\n",
    "\n",
    "The arguments and initialization are similar to the `Encoder` class, except we now have an `output_dim` which is the size of the vocabulary for the output/target. There is also the addition of the `Linear` layer, used to make the predictions from the top layer hidden state.\n",
    "\n",
    "Within the `forward` method, we accept a batch of input tokens, previous hidden states and previous cell states. As we are only decoding one token at a time, the input tokens will always have a sequence length of 1. We `unsqueeze` the input tokens to add a sentence length dimension of 1. Then, similar to the encoder, we pass through an embedding layer and apply dropout. This batch of embedded tokens is then passed into the RNN with the previous hidden and cell states. This produces an `output` (hidden state from the top layer of the RNN), a new `hidden` state (one for each layer, stacked on top of each other) and a new `cell` state (also one per layer, stacked on top of each other). We then pass the `output` (after getting rid of the sentence length dimension) through the linear layer to receive our `prediction`. We then return the `prediction`, the new `hidden` state and the new `cell` state.\n"
   ]
  },
  {
   "cell_type": "code",
   "execution_count": 19,
   "id": "17da97b7",
   "metadata": {},
   "outputs": [],
   "source": [
    "class Decoder(torch.nn.Module):\n",
    "    def __init__(self,output_dim, embedding_dim, hidden_dim, num_layers, dropout_value):\n",
    "        super(Decoder,self).__init__();\n",
    "        \n",
    "        # Attributes\n",
    "        self.output_dim = output_dim;\n",
    "        self.embedding_dim = embedding_dim;\n",
    "        self.hidden_dim = hidden_dim;\n",
    "        self.num_layers = num_layers;\n",
    "        self.dropout_value = dropout_value;\n",
    "        \n",
    "        # Layers\n",
    "        self.embedded = Embedding(output_dim,embedding_dim);\n",
    "        self.lstm = LSTM(embedding_dim, hidden_dim, num_layers, dropout=dropout_value);\n",
    "        \n",
    "        # Linear layer applied to LSTM outputs for havimg most highest proability of predictions(after Softmax to it.)\n",
    "        self.fullyConnectedLayer = Linear(hidden_dim,output_dim);\n",
    "        \n",
    "    def forward(self,target, hidden, cell):\n",
    "        #target.shape => [batch_size]\n",
    "        # This target is just one word at a time but for complete batch_size or we can say Single word for same seq_len\n",
    "        # of Batch Size.\n",
    "        \n",
    "        # Making 1d to 2d array to pass to Embedding layer at dimension 0.\n",
    "        target = target.unsqueeze(0) \n",
    "        # target.shape => [1,batch_size]\n",
    "        \n",
    "        out_embedded = self.embedded(target)\n",
    "        # out_embedded.shape =>[1,batch_size, embedding_size]\n",
    "        \n",
    "        outputs,(hidden,cell) = self.lstm(out_embedded)\n",
    "        # outputs.shape => [1, batch_size, hidden_size]\n",
    "        # hidden.shape => [1*1, batch_size, hidden_size]\n",
    "        # cell.shape => [1*1, batch_size, hidden_size]    : num_layers=d=1\n",
    "        \n",
    "        outputs = outputs.squeeze(0)\n",
    "        #outputs.shape =>[batch_size, hidden_size]\n",
    "        \n",
    "        predictions = self.fullyConnectedLayer(outputs)\n",
    "        #predictions =>[batch_size, output_dim]\n",
    "        \n",
    "        return predictions,hidden,cell"
   ]
  },
  {
   "cell_type": "markdown",
   "id": "deb32428",
   "metadata": {},
   "source": [
    "## Sequence to Sequence Class "
   ]
  },
  {
   "cell_type": "markdown",
   "id": "74f4e592",
   "metadata": {},
   "source": [
    "![](images/seq2seq.png)\n",
    "Our `forward` method takes the source sentence, target sentence and a teacher-forcing ratio. The teacher forcing ratio is used when training our model. When decoding, at each time-step we will predict what the next token in the target sequence will be from the previous tokens decoded, $\\hat{y}_{t+1}=f(s_t^L)$. With probability equal to the teaching forcing ratio (`teacher_forcing_ratio`) we will use the actual ground-truth next token in the sequence as the input to the decoder during the next time-step. However, with probability `1 - teacher_forcing_ratio`, we will use the token that the model predicted as the next input to the model, even if it doesn't match the actual next token in the sequence.  \n",
    "\n",
    "The first thing we do in the `forward` method is to create an `outputs` tensor that will store all of our predictions, $\\hat{Y}$.\n",
    "\n",
    "We then feed the input/source sentence, `src`, into the encoder and receive out final hidden and cell states.\n",
    "\n",
    "The first input to the decoder is the start of sequence (`<sos>`) token. As our `trg` tensor already has the `<sos>` token appended (all the way back when we defined the `init_token` in our `TRG` field) we get our $y_1$ by slicing into it. We know how long our target sentences should be (`max_len`), so we loop that many times. The last token input into the decoder is the one **before** the `<eos>` token - the `<eos>` token is never input into the decoder. \n",
    "\n",
    "During each iteration of the loop, we:\n",
    "- pass the input, previous hidden and previous cell states ($y_t, s_{t-1}, c_{t-1}$) into the decoder\n",
    "- receive a prediction, next hidden state and next cell state ($\\hat{y}_{t+1}, s_{t}, c_{t}$) from the decoder\n",
    "- place our prediction, $\\hat{y}_{t+1}$/`output` in our tensor of predictions, $\\hat{Y}$/`outputs`\n",
    "- decide if we are going to \"teacher force\" or not\n",
    "    - if we do, the next `input` is the ground-truth next token in the sequence, $y_{t+1}$/`trg[t]`\n",
    "    - if we don't, the next `input` is the predicted next token in the sequence, $\\hat{y}_{t+1}$/`top1`, which we get by doing an `argmax` over the output tensor\n",
    "    \n",
    "Once we've made all of our predictions, we return our tensor full of predictions, $\\hat{Y}$/`outputs`.\n",
    "\n",
    "**Note**: our decoder loop starts at 1, not 0. This means the 0th element of our `outputs` tensor remains all zeros. So our `trg` and `outputs` look something like:\n",
    "\n",
    "$$\\begin{align*}\n",
    "\\text{trg} = [<sos>, &y_1, y_2, y_3, <eos>]\\\\\n",
    "\\text{outputs} = [0, &\\hat{y}_1, \\hat{y}_2, \\hat{y}_3, <eos>]\n",
    "\\end{align*}$$\n",
    "\n",
    "Later on when we calculate the loss, we cut off the first element of each tensor to get:\n",
    "\n",
    "$$\\begin{align*}\n",
    "\\text{trg} = [&y_1, y_2, y_3, <eos>]\\\\\n",
    "\\text{outputs} = [&\\hat{y}_1, \\hat{y}_2, \\hat{y}_3, <eos>]\n",
    "\\end{align*}$$"
   ]
  },
  {
   "cell_type": "code",
   "execution_count": 20,
   "id": "9cacfc43",
   "metadata": {},
   "outputs": [],
   "source": [
    "class Seq2Seq(nn.Module):\n",
    "    def __init__(self,encoder,decoder,device,vocab_size_of_trg):\n",
    "        super(Seq2Seq,self).__init__();\n",
    "        self.encoder = encoder;\n",
    "        self.decoder = decoder;\n",
    "        self.device = device;\n",
    "        self.vocab_size_of_trg = vocab_size_of_trg;\n",
    "        \n",
    "    def forward(self,src,trg,teacher_forece_ratio=0.5):\n",
    "        #src.shape => (seq_len, batch_size)\n",
    "        #trg.shape => (seq_len, batch_size)\n",
    "        \n",
    "        trg_len = trg.shape[0];\n",
    "        batch_size = trg.shape[1];\n",
    "        trg_vocal_size = self.vocab_size_of_trg;\n",
    "        \n",
    "        outputs_of_zeros=torch.zeros(trg_len,batch_size,trg_vocal_size).to(self.device)\n",
    "        # Its 3d array where we have predictions(in terms of proablity) for all vocab words.\n",
    "        # trg_len corresponds to all words in that selected batch of senetences.\n",
    "        \n",
    "        # Sending source to encoder\n",
    "        hidden ,cell = self.encoder(src)\n",
    "        \n",
    "        #first input to the decoder is the <sos> tokens\n",
    "        input = trg[0,:]\n",
    "        for t in range(trg_len):\n",
    "            outputs,hidden,cell = self.decoder(input,hidden,cell);\n",
    "            \n",
    "            #place predictions in a tensor holding predictions for each token\n",
    "            outputs_of_zeros[t] = outputs\n",
    "            \n",
    "            #decide if we are going to use teacher forcing or not\n",
    "            teacher_force = random.random() < teacher_forece_ratio\n",
    "            \n",
    "            #get the highest predicted token from our predictions\n",
    "            top1 = outputs.argmax(1)\n",
    "            \n",
    "            #if teacher forcing, use actual next token as next input\n",
    "            #if not, use predicted token\n",
    "            input = trg[t] if teacher_force else top1\n",
    "            \n",
    "        return outputs_of_zeros"
   ]
  },
  {
   "cell_type": "markdown",
   "id": "e11e0a8e",
   "metadata": {},
   "source": [
    "## Hyperparameters, Parameters and Variable Declarations"
   ]
  },
  {
   "cell_type": "code",
   "execution_count": 21,
   "id": "e19ea017",
   "metadata": {},
   "outputs": [],
   "source": [
    "Input_dim = len(SRC.vocab)\n",
    "Output_dim = len(TRG.vocab)\n",
    "\n",
    "hidden_size_of_Encoder = hidden_size_of_Decoder = 512\n",
    "embedding_size = 256\n",
    "\n",
    "num_layers = 2\n",
    "dropout=0.5\n",
    "EPOCHS=10\n",
    "\n",
    "enc = Encoder(Input_dim,embedding_size,hidden_size_of_Encoder,num_layers,dropout).to(device)\n",
    "dec = Decoder(Output_dim,embedding_size, hidden_size_of_Decoder, num_layers, dropout).to(device)\n",
    "\n",
    "model = Seq2Seq(enc,dec,device,Output_dim).to(device)"
   ]
  },
  {
   "cell_type": "code",
   "execution_count": 22,
   "id": "55d54482",
   "metadata": {},
   "outputs": [
    {
     "data": {
      "text/plain": [
       "Seq2Seq(\n",
       "  (encoder): Encoder(\n",
       "    (embedded): Embedding(7853, 256)\n",
       "    (lstm): LSTM(256, 512, num_layers=2, dropout=0.5)\n",
       "  )\n",
       "  (decoder): Decoder(\n",
       "    (embedded): Embedding(5893, 256)\n",
       "    (lstm): LSTM(256, 512, num_layers=2, dropout=0.5)\n",
       "    (fullyConnectedLayer): Linear(in_features=512, out_features=5893, bias=True)\n",
       "  )\n",
       ")"
      ]
     },
     "execution_count": 22,
     "metadata": {},
     "output_type": "execute_result"
    }
   ],
   "source": [
    "def init_weights(m):\n",
    "    for name, param in m.named_parameters():\n",
    "        nn.init.uniform_(param.data, -0.08, 0.08)\n",
    "        \n",
    "model.apply(init_weights)"
   ]
  },
  {
   "cell_type": "code",
   "execution_count": 23,
   "id": "11a7e00a",
   "metadata": {},
   "outputs": [
    {
     "name": "stdout",
     "output_type": "stream",
     "text": [
      "The model has 13,898,501 trainable parameters\n"
     ]
    }
   ],
   "source": [
    "def count_parameters(model):\n",
    "    return sum(p.numel() for p in model.parameters() if p.requires_grad)\n",
    "\n",
    "print(f'The model has {count_parameters(model):,} trainable parameters')"
   ]
  },
  {
   "cell_type": "markdown",
   "id": "f74cea85",
   "metadata": {},
   "source": [
    "# Training Loop"
   ]
  },
  {
   "cell_type": "code",
   "execution_count": 24,
   "id": "de706d12",
   "metadata": {},
   "outputs": [],
   "source": [
    "# Optimizer Declaration\n",
    "from torch.optim import Adam\n",
    "optimiser = Adam(model.parameters())"
   ]
  },
  {
   "cell_type": "code",
   "execution_count": 25,
   "id": "95658748",
   "metadata": {},
   "outputs": [],
   "source": [
    "# Loss Functions Declaration\n",
    "from torch.nn import CrossEntropyLoss\n",
    "TRG_PAD_IDX = TRG.vocab.stoi[TRG.pad_token]\n",
    "loss = CrossEntropyLoss(ignore_index=TRG_PAD_IDX) # Ignoring all indexes that have padding token."
   ]
  },
  {
   "cell_type": "markdown",
   "id": "f7a73620",
   "metadata": {},
   "source": [
    "Next, we'll define our training loop. \n",
    "\n",
    "First, we'll set the model into \"training mode\" with `model.train()`. This will turn on dropout (and batch normalization, which we aren't using) and then iterate through our data iterator.\n",
    "\n",
    "As stated before, our decoder loop starts at 1, not 0. This means the 0th element of our `outputs` tensor remains all zeros. So our `trg` and `outputs` look something like:\n",
    "\n",
    "$$\\begin{align*}\n",
    "\\text{trg} = [<sos>, &y_1, y_2, y_3, <eos>]\\\\\n",
    "\\text{outputs} = [0, &\\hat{y}_1, \\hat{y}_2, \\hat{y}_3, <eos>]\n",
    "\\end{align*}$$\n",
    "\n",
    "Here, when we calculate the loss, we cut off the first element of each tensor to get:\n",
    "\n",
    "$$\\begin{align*}\n",
    "\\text{trg} = [&y_1, y_2, y_3, <eos>]\\\\\n",
    "\\text{outputs} = [&\\hat{y}_1, \\hat{y}_2, \\hat{y}_3, <eos>]\n",
    "\\end{align*}$$\n",
    "\n",
    "At each iteration:\n",
    "- get the source and target sentences from the batch, $X$ and $Y$\n",
    "- zero the gradients calculated from the last batch\n",
    "- feed the source and target into the model to get the output, $\\hat{Y}$\n",
    "- as the loss function only works on 2d inputs with 1d targets we need to flatten each of them with `.view`\n",
    "    - we slice off the first column of the output and target tensors as mentioned above\n",
    "- calculate the gradients with `loss.backward()`\n",
    "- clip the gradients to prevent them from exploding (a common issue in RNNs)\n",
    "- update the parameters of our model by doing an optimizer step\n",
    "- sum the loss value to a running total\n",
    "\n",
    "Finally, we return the loss that is averaged over all batches."
   ]
  },
  {
   "cell_type": "code",
   "execution_count": 26,
   "id": "02ade3e0",
   "metadata": {},
   "outputs": [],
   "source": [
    "## Training Function\n",
    "\n",
    "def Train(model, training_data, optimizer, criterion, clip_value,OPTIM_ENCODER):\n",
    "    model.train()\n",
    "    epoch_loss=0;\n",
    "    \n",
    "    for i, batch_wise_data in enumerate(training_data):\n",
    "        src = batch_wise_data.src\n",
    "        trg = batch_wise_data.trg\n",
    "        \n",
    "        optimizer.zero_grad()\n",
    "        OPTIM_ENCODER.zero_grad()\n",
    "        \n",
    "        output = model(src,trg)\n",
    "        \n",
    "        #trg = [trg len, batch size]\n",
    "        #output = [trg len, batch size, output dim]\n",
    "            \n",
    "        output_dim = output.shape[-1]\n",
    "        \n",
    "        output = output[1:].view(-1, output_dim)\n",
    "        trg = trg[1:].view(-1)\n",
    "        \n",
    "        #trg = [(trg len - 1) * batch size]\n",
    "        #output = [(trg len - 1) * batch size, output dim]\n",
    "        \n",
    "        loss = criterion(output, trg) \n",
    "        loss.backward()   \n",
    "        torch.nn.utils.clip_grad_norm_(model.parameters(), clip_value)  \n",
    "        optimizer.step()\n",
    "        OPTIM_ENCODER.step()\n",
    "        \n",
    "        epoch_loss += loss.item()\n",
    "        \n",
    "        return epoch_loss/len(training_data)"
   ]
  },
  {
   "cell_type": "code",
   "execution_count": 27,
   "id": "f85f8bc3",
   "metadata": {},
   "outputs": [],
   "source": [
    "def evaluate(model,data,criterion):\n",
    "    epoch_loss=0\n",
    "    model.eval()\n",
    "    \n",
    "    with torch.no_grad():\n",
    "        for i , batch_wise_data in enumerate(data):\n",
    "            src = batch_wise_data.src;\n",
    "            trg = batch_wise_data.trg;\n",
    "            \n",
    "            output=model(src,trg,0) #teacher_ratio_force=0\n",
    "            \n",
    "            #trg = [trg len, batch size]\n",
    "            #output = [trg len, batch size, output dim]\n",
    "            output_dim = output.shape[-1] # That is output_dim.\n",
    "            \n",
    "            # Exculding <sos> tokens of all batches.\n",
    "            output = output[1:].view(-1,output_dim);\n",
    "            trg = trg[1:].view(-1);\n",
    "            \n",
    "            #trg = [(trg len - 1) * batch size]\n",
    "            #output = [(trg len - 1) * batch size, output dim]\n",
    "            \n",
    "            loss = criterion(output,trg)\n",
    "            \n",
    "            epoch_loss +=loss.item()\n",
    "    return epoch_loss/len(data)"
   ]
  },
  {
   "cell_type": "code",
   "execution_count": 28,
   "id": "10bcdfc1",
   "metadata": {},
   "outputs": [],
   "source": [
    "def epoch_time(start_time, end_time):\n",
    "    elapsed_time = end_time - start_time\n",
    "    elapsed_mins = int(elapsed_time / 60)\n",
    "    elapsed_secs = int(elapsed_time - (elapsed_mins * 60))\n",
    "    return elapsed_mins, elapsed_secs"
   ]
  },
  {
   "cell_type": "code",
   "execution_count": 29,
   "id": "75025c02",
   "metadata": {},
   "outputs": [
    {
     "name": "stdout",
     "output_type": "stream",
     "text": [
      "Epoch: 01 | Time: 0m 3s\n",
      "\tTrain Loss: 0.001 | Train PPL:   1.001\n",
      "\t Val. Loss: 8.673 |  Val. PPL: 5845.793\n",
      "Epoch: 02 | Time: 0m 2s\n",
      "\tTrain Loss: 0.001 | Train PPL:   1.001\n",
      "\t Val. Loss: 8.657 |  Val. PPL: 5751.570\n",
      "Epoch: 03 | Time: 0m 2s\n",
      "\tTrain Loss: 0.001 | Train PPL:   1.001\n",
      "\t Val. Loss: 8.641 |  Val. PPL: 5658.399\n",
      "Epoch: 04 | Time: 0m 2s\n",
      "\tTrain Loss: 0.001 | Train PPL:   1.001\n",
      "\t Val. Loss: 8.627 |  Val. PPL: 5581.044\n",
      "Epoch: 05 | Time: 0m 2s\n",
      "\tTrain Loss: 0.001 | Train PPL:   1.001\n",
      "\t Val. Loss: 8.612 |  Val. PPL: 5498.164\n",
      "Epoch: 06 | Time: 0m 2s\n",
      "\tTrain Loss: 0.001 | Train PPL:   1.001\n",
      "\t Val. Loss: 8.596 |  Val. PPL: 5408.988\n",
      "Epoch: 07 | Time: 0m 2s\n",
      "\tTrain Loss: 0.001 | Train PPL:   1.001\n",
      "\t Val. Loss: 8.573 |  Val. PPL: 5285.427\n",
      "Epoch: 08 | Time: 0m 2s\n",
      "\tTrain Loss: 0.001 | Train PPL:   1.001\n",
      "\t Val. Loss: 8.546 |  Val. PPL: 5146.296\n",
      "Epoch: 09 | Time: 0m 2s\n",
      "\tTrain Loss: 0.001 | Train PPL:   1.001\n",
      "\t Val. Loss: 8.514 |  Val. PPL: 4984.408\n",
      "Epoch: 10 | Time: 0m 2s\n",
      "\tTrain Loss: 0.001 | Train PPL:   1.001\n",
      "\t Val. Loss: 8.493 |  Val. PPL: 4882.062\n"
     ]
    }
   ],
   "source": [
    "CLIP = 1\n",
    "\n",
    "best_valid_loss = float('inf')\n",
    "\n",
    "OPTIM_ENCODER = Adam(enc.parameters())\n",
    "OPTIM_DECODER = Adam(dec.parameters())\n",
    "for epoch in range(EPOCHS):\n",
    "    start_time = time.time()\n",
    "    \n",
    "    train_loss = Train(model,train_iterator, OPTIM_DECODER, loss,CLIP, OPTIM_ENCODER);\n",
    "    valid_loss = evaluate(model, valid_iterator, loss);\n",
    "    \n",
    "    end_time = time.time();\n",
    "    \n",
    "    epoch_mins, epoch_secs = epoch_time(start_time, end_time)\n",
    "    \n",
    "    if valid_loss < best_valid_loss:\n",
    "        best_valid_loss = valid_loss\n",
    "        torch.save(model.state_dict(), 'model1.pt')\n",
    "    print(f'Epoch: {epoch+1:02} | Time: {epoch_mins}m {epoch_secs}s')\n",
    "    print(f'\\tTrain Loss: {train_loss:.3f} | Train PPL: {math.exp(train_loss):7.3f}')\n",
    "    print(f'\\t Val. Loss: {valid_loss:.3f} |  Val. PPL: {math.exp(valid_loss):7.3f}')"
   ]
  },
  {
   "cell_type": "code",
   "execution_count": 30,
   "id": "be8daabb",
   "metadata": {},
   "outputs": [
    {
     "data": {
      "text/plain": [
       "\"model.load_state_dict(torch.load('tut1-model.pt'))\\n\\ntest_loss = evaluate(model, test_iterator, loss)\\n\\nprint(f'| Test Loss: {test_loss:.3f} | Test PPL: {math.exp(test_loss):7.3f} |')\""
      ]
     },
     "execution_count": 30,
     "metadata": {},
     "output_type": "execute_result"
    }
   ],
   "source": [
    "'''model.load_state_dict(torch.load('tut1-model.pt'))\n",
    "\n",
    "test_loss = evaluate(model, test_iterator, loss)\n",
    "\n",
    "print(f'| Test Loss: {test_loss:.3f} | Test PPL: {math.exp(test_loss):7.3f} |')'''"
   ]
  },
  {
   "cell_type": "code",
   "execution_count": null,
   "id": "77e55907",
   "metadata": {},
   "outputs": [],
   "source": []
  }
 ],
 "metadata": {
  "kernelspec": {
   "display_name": "Python 3 (ipykernel)",
   "language": "python",
   "name": "python3"
  },
  "language_info": {
   "codemirror_mode": {
    "name": "ipython",
    "version": 3
   },
   "file_extension": ".py",
   "mimetype": "text/x-python",
   "name": "python",
   "nbconvert_exporter": "python",
   "pygments_lexer": "ipython3",
   "version": "3.7.11"
  }
 },
 "nbformat": 4,
 "nbformat_minor": 5
}
